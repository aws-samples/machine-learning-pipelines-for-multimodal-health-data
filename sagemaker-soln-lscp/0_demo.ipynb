{
 "cells": [
  {
   "cell_type": "markdown",
   "metadata": {},
   "source": [
    "# Lung Cancer Survival Prediction Endpoint Demo\n",
    "\n",
    "In this endpoint demo notebook, we demonstrate how to send inference requests to a pre-deployed endpoint and get the model response (survived vs death). \n",
    "\n",
    "To find more details of an end-to-end solution for data processing, feature store, model training and deployement using SageMaker, check out the solution notebook [1_preprocess_genomic_data.ipynb](./1_preprocess_genomic_data.ipynb) to start the end-to-end solution.  \n",
    "\n",
    "The end-to-end solution shows how-to for the following steps: \n",
    "1. processing multi-modal data (genomic, clinical, medical imaging) to obtain ML features\n",
    "2. ingesting and managing multi-modal features in SageMaker Feature Store\n",
    "3. training a survival status prediction model using PCA and XGBoost\n",
    "4. hosting a model for inference. \n",
    "\n",
    "The exposition in this notebook is deliberately brief. \n",
    "\n",
    ">**<span style=\"color:RED\">Important</span>**: \n",
    ">This solution is for demonstrative purposes only. It is not for clinical use. The ML inference should not be used to inform any clinical decision. The associated notebooks, including the trained model and sample data, are not intended for production."
   ]
  },
  {
   "cell_type": "markdown",
   "metadata": {},
   "source": [
    "### Step 1: Read in the solution config"
   ]
  },
  {
   "cell_type": "code",
   "execution_count": null,
   "metadata": {},
   "outputs": [],
   "source": [
    "import json\n",
    "\n",
    "SOLUTION_CONFIG = json.load(open(\"stack_outputs.json\"))\n",
    "ROLE = SOLUTION_CONFIG[\"IamRole\"]\n",
    "SOLUTION_BUCKET = SOLUTION_CONFIG[\"SolutionS3Bucket\"]\n",
    "REGION = SOLUTION_CONFIG[\"AWSRegion\"]\n",
    "SOLUTION_NAME = SOLUTION_CONFIG[\"SolutionName\"]\n",
    "BUCKET = SOLUTION_CONFIG[\"S3Bucket\"]"
   ]
  },
  {
   "cell_type": "markdown",
   "metadata": {},
   "source": [
    "### Step 2: Download and read in the multimodal dataset for inference\n",
    "\n",
    "The test multimodal dataset consists of genomic, clinical and imaging features for X patients. The features have been condensed by PCA from 216 to 65 principal components."
   ]
  },
  {
   "cell_type": "markdown",
   "metadata": {},
   "source": [
    "#### Download the data for inference from S3"
   ]
  },
  {
   "cell_type": "code",
   "execution_count": null,
   "metadata": {},
   "outputs": [],
   "source": [
    "input_data_bucket = f\"s3://{SOLUTION_BUCKET}-{REGION}/{SOLUTION_NAME}/data\"\n",
    "inference_data = f\"{input_data_bucket}/test.csv\"\n",
    "!aws s3 cp $inference_data ."
   ]
  },
  {
   "cell_type": "code",
   "execution_count": null,
   "metadata": {},
   "outputs": [],
   "source": [
    "import pandas as pd\n",
    "\n",
    "df_test = pd.read_csv(\"test.csv\", header=None)\n",
    "print(df_test.shape)"
   ]
  },
  {
   "cell_type": "code",
   "execution_count": null,
   "metadata": {},
   "outputs": [],
   "source": [
    "# Separate the labels from the test dataset\n",
    "groundtruth = df_test[0].values\n",
    "df_test = df_test.drop(columns=[0])"
   ]
  },
  {
   "cell_type": "markdown",
   "metadata": {},
   "source": [
    "The features are principal components computed from 216 features. The original feature vector include features from genomic secondary analysis, clinical health records, and radiomic features from within the lung tumor in computed tomography images. \n",
    "\n",
    "#### Snapshot of data\n",
    "##### Clinical\n",
    "![clinical-data](https://sagemaker-solutions-prod-us-east-2.s3-us-east-2.amazonaws.com/sagemaker-lung-cancer-survival-prediction/1.0.0/docs/clinical-data-screenshot.png)\n",
    "\n",
    "##### Genomic\n",
    "![genomic-data](https://sagemaker-solutions-prod-us-east-2.s3-us-east-2.amazonaws.com/sagemaker-lung-cancer-survival-prediction/1.0.0/docs/genomic-secondary.png)\n",
    "\n",
    "##### Medical imaging\n",
    "![imaging-data](https://sagemaker-solutions-prod-us-east-2.s3-us-east-2.amazonaws.com/sagemaker-lung-cancer-survival-prediction/1.0.0/docs/CT-tumor-overlay.png)"
   ]
  },
  {
   "cell_type": "markdown",
   "metadata": {},
   "source": [
    "### Step 3: Predicting survival status"
   ]
  },
  {
   "cell_type": "markdown",
   "metadata": {},
   "source": [
    "If you want to use the demo endpoint successfully, your dataframe columns should be identical to the `df_test` as shown in the previous step."
   ]
  },
  {
   "cell_type": "code",
   "execution_count": null,
   "metadata": {},
   "outputs": [],
   "source": [
    "import sagemaker\n",
    "from sagemaker import Predictor\n",
    "import numpy as np\n",
    "from sagemaker.predictor import json_serializer, json_deserializer, Predictor\n",
    "\n",
    "\n",
    "endpoint_name = SOLUTION_CONFIG[\"SolutionPrefix\"] + \"-demo-endpoint\" \n",
    "\n",
    "# Make prediction requests to an Amazon SageMaker endpoint.\n",
    "predictor = Predictor(\n",
    "    endpoint_name = endpoint_name,\n",
    "    sagemaker_session = sagemaker.Session(),\n",
    "    deserializer =  sagemaker.deserializers.CSVDeserializer(),\n",
    "    serializer = sagemaker.serializers.CSVSerializer(),\n",
    ")\n",
    "\n",
    "# Retrieve predictions by passing the test dataset to the Predictor's predict method.\n",
    "prediction = predictor.predict(df_test.values)\n",
    "prediction"
   ]
  },
  {
   "cell_type": "code",
   "execution_count": null,
   "metadata": {},
   "outputs": [],
   "source": [
    "# Since the predictions are strings, let's convert them back to floats. \n",
    "# The response is an list of lists, let's retrieve list of our predictions.\n",
    "\n",
    "prediction_float = [float(pred) for pred in prediction[0]]\n",
    "prediction_float"
   ]
  },
  {
   "cell_type": "markdown",
   "metadata": {},
   "source": [
    "Let's evaluate the model performance on this sample data against the ground truth using the ROC curve (Receiver Operating Characteristic curve) and AUC (Area Under the Curve) for ROC."
   ]
  },
  {
   "cell_type": "code",
   "execution_count": null,
   "metadata": {},
   "outputs": [],
   "source": [
    "# plot ROC curve, and compute AUC score using the probability\n",
    "import sklearn.metrics as skm\n",
    "\n",
    "fpr, tpr, thresholds = skm.roc_curve(groundtruth, prediction_float)\n",
    "skm.auc(fpr, tpr)"
   ]
  },
  {
   "cell_type": "code",
   "execution_count": null,
   "metadata": {},
   "outputs": [],
   "source": [
    "from sklearn.metrics import roc_curve\n",
    "from sklearn.metrics import roc_auc_score\n",
    "from matplotlib import pyplot as plt\n",
    "\n",
    "plt.subplots(1, figsize=(5,5))\n",
    "plt.title('Receiver Operating Characteristic')\n",
    "plt.plot(fpr, tpr)\n",
    "plt.plot([0, 1], ls=\"--\")\n",
    "# plt.plot([0, 0], [1, 0] , c=\".7\"), plt.plot([1, 1] , c=\".7\")\n",
    "plt.ylabel('True Positive Rate')\n",
    "plt.xlabel('False Positive Rate')\n",
    "plt.show()"
   ]
  },
  {
   "cell_type": "markdown",
   "metadata": {},
   "source": [
    "Let's convert the probability to hard prediction, survive (1) or death (0) by a set threshold of 0.5."
   ]
  },
  {
   "cell_type": "code",
   "execution_count": null,
   "metadata": {},
   "outputs": [],
   "source": [
    "predictions_label = [1 if pred > 0.5 else 0 for pred in prediction_float]\n",
    "predictions_label"
   ]
  },
  {
   "cell_type": "code",
   "execution_count": null,
   "metadata": {},
   "outputs": [],
   "source": [
    "target_names = [False, True]\n",
    "skm.confusion_matrix(groundtruth, predictions_label)"
   ]
  },
  {
   "cell_type": "code",
   "execution_count": null,
   "metadata": {},
   "outputs": [],
   "source": [
    "print(skm.classification_report(groundtruth, predictions_label))"
   ]
  },
  {
   "cell_type": "markdown",
   "metadata": {},
   "source": [
    "## Next Stage\n",
    "\n",
    "Next, we'll start the end-to-end solution from [here](./1_preprocess_genomic_data.ipynb)."
   ]
  }
 ],
 "metadata": {
  "instance_type": "ml.t3.medium",
  "kernelspec": {
   "display_name": "Python 3",
   "language": "python",
   "name": "python3"
  },
  "language_info": {
   "codemirror_mode": {
    "name": "ipython",
    "version": 3
   },
   "file_extension": ".py",
   "mimetype": "text/x-python",
   "name": "python",
   "nbconvert_exporter": "python",
   "pygments_lexer": "ipython3",
   "version": "3.6.8"
  }
 },
 "nbformat": 4,
 "nbformat_minor": 4
}
