{
 "cells": [
  {
   "cell_type": "markdown",
   "metadata": {},
   "source": [
    "# Lung Cancer Survival Prediction Endpoint Demo\n",
    "\n",
    "In this endpoint demo notebook, we demonstrate how to send inference requests to an pre-deployed endpoint and get the model response.\n",
    "\n",
    "To find more details of an end-to-end solution for data processing, feature store, model training and deployement using SageMaker, check out the solution notebook `xxxxxxx.ipynb`. It shows how-to for the following steps: 1/ processing multi-modal data (genomic, clinical, medical imaging) to obtain ML features, 2/ ingesting and managing multi-modal features in SageMaker Feature Store, 3/ training a survival status prediction model using PCA and XGBoost, 4/ hosting a model for inference. The exposition in this notebook is deliberately brief. \n",
    "\n",
    ">**<span style=\"color:RED\">Important</span>**: \n",
    ">This solution is for demonstrative purposes only. It is not for clinical use. The ML inference should not be used to inform any clinical decision. The associated notebooks, including the trained model and sample data, are not intended for production."
   ]
  },
  {
   "cell_type": "markdown",
   "metadata": {},
   "source": [
    "### (dev only) Hosting a trained model from local model.tar.gz\n",
    "This section ought to be removed once tested by solution team. JS team should not include this section in integration test."
   ]
  },
  {
   "cell_type": "code",
   "execution_count": 1,
   "metadata": {},
   "outputs": [],
   "source": [
    "import sagemaker\n",
    "import boto3\n",
    "role = sagemaker.get_execution_role()\n",
    "sagemaker_session = sagemaker.Session()\n",
    "region = sagemaker_session.boto_region_name\n",
    "account_id = boto3.client('sts').get_caller_identity().get('Account')\n",
    "\n",
    "default_bucket = sagemaker_session.default_bucket()\n",
    "prefix = 'sagemaker/sagemaker-soln-lcsp-js'"
   ]
  },
  {
   "cell_type": "code",
   "execution_count": 2,
   "metadata": {},
   "outputs": [],
   "source": [
    "model_local = './js-us-west-2-output/model.tar.gz'\n",
    "model_s3_prefix = f's3://{default_bucket}/{prefix}/js-us-west-2-output'\n",
    "model_s3_uri = sagemaker.s3.S3Uploader.upload(model_local, model_s3_prefix, sagemaker_session=sagemaker_session)"
   ]
  },
  {
   "cell_type": "code",
   "execution_count": 3,
   "metadata": {},
   "outputs": [],
   "source": [
    "image = sagemaker.image_uris.retrieve('xgboost', region=region, version='1.2-1')\n",
    "model = sagemaker.model.Model(image, model_data=model_s3_uri, role = role, sagemaker_session=sagemaker_session)"
   ]
  },
  {
   "cell_type": "code",
   "execution_count": 4,
   "metadata": {},
   "outputs": [
    {
     "name": "stdout",
     "output_type": "stream",
     "text": [
      "--------!"
     ]
    }
   ],
   "source": [
    "import uuid\n",
    "suffix=uuid.uuid1().hex[:5] # to be used in resource names\n",
    "endpoint_name = f'sagemaker-soln-lcsp-js-{suffix}'\n",
    "model.deploy(initial_instance_count=1, instance_type='ml.t2.large', endpoint_name=endpoint_name)"
   ]
  },
  {
   "cell_type": "markdown",
   "metadata": {},
   "source": [
    "### Step 1: Read in the solution config"
   ]
  },
  {
   "cell_type": "code",
   "execution_count": 5,
   "metadata": {},
   "outputs": [],
   "source": [
    "# import json\n",
    "\n",
    "# SOLUTION_CONFIG = json.load(open(\"stack_outputs.json\"))\n",
    "# ROLE = SOLUTION_CONFIG[\"IamRole\"]\n",
    "# SOLUTION_BUCKET = SOLUTION_CONFIG[\"SolutionS3Bucket\"]\n",
    "# REGION = SOLUTION_CONFIG[\"AWSRegion\"]\n",
    "# SOLUTION_NAME = SOLUTION_CONFIG[\"SolutionName\"]\n",
    "# BUCKET = SOLUTION_CONFIG[\"S3Bucket\"]"
   ]
  },
  {
   "cell_type": "markdown",
   "metadata": {},
   "source": [
    "### Step 2: Download and read in the multimodal dataset for inference\n",
    "\n",
    "The test multimodal dataset consists of genomic, clinical and imaging features for X patients. The features have been condensed by PCA from 216 to 65 principal components."
   ]
  },
  {
   "cell_type": "code",
   "execution_count": 6,
   "metadata": {},
   "outputs": [],
   "source": [
    "# from sagemaker.s3 import S3Downloader\n",
    "\n",
    "# input_data_bucket = f\"s3://{SOLUTION_BUCKET}-{REGION}/{SOLUTION_NAME}/data\"\n",
    "# print(\"original data: \")\n",
    "# S3Downloader.list(input_data_bucket)"
   ]
  },
  {
   "cell_type": "markdown",
   "metadata": {},
   "source": [
    "#### Download the data for inference from S3"
   ]
  },
  {
   "cell_type": "code",
   "execution_count": 7,
   "metadata": {},
   "outputs": [],
   "source": [
    "# inference_data = f\"{input_data_bucket}/test.csv\"\n",
    "# !aws s3 cp $inference_data ."
   ]
  },
  {
   "cell_type": "code",
   "execution_count": 5,
   "metadata": {},
   "outputs": [
    {
     "name": "stdout",
     "output_type": "stream",
     "text": [
      "(24, 66)\n"
     ]
    }
   ],
   "source": [
    "import pandas as pd\n",
    "\n",
    "df_test = pd.read_csv(\"js-us-west-2-output/test.csv\", header=None)\n",
    "print(df_test.shape)"
   ]
  },
  {
   "cell_type": "code",
   "execution_count": 6,
   "metadata": {},
   "outputs": [],
   "source": [
    "# Separate the labels from the test dataset\n",
    "groundtruth = df_test[0].values\n",
    "df_test = df_test.drop(columns=[0])"
   ]
  },
  {
   "cell_type": "markdown",
   "metadata": {},
   "source": [
    "The features are principal components computed from 216 features. The original feature vector include features from genomic secondary analysis, clinical health records, and radiomic features from within the lung tumor in computed tomography images. \n",
    "\n",
    "#### Snapshot of data\n",
    "##### Clinical\n",
    "![clinical-data](../images/clinical-data-screenshot.png)\n",
    "\n",
    "#### Genomic\n",
    "![genomic-data](../images/genomic-secondary.png)\n",
    "\n",
    "#### Medical imaging\n",
    "![imaging-data](../images/CT-tumor-overlay.png)"
   ]
  },
  {
   "cell_type": "markdown",
   "metadata": {},
   "source": [
    "### Step 3: Predicting survival status"
   ]
  },
  {
   "cell_type": "markdown",
   "metadata": {},
   "source": [
    "If you want to use the demo endpoint successfully, your dataframe columns should be identical to the `df_tabtext_score` as shown in the previous step."
   ]
  },
  {
   "cell_type": "code",
   "execution_count": 7,
   "metadata": {},
   "outputs": [],
   "source": [
    "pd.set_option('display.max_columns', None)"
   ]
  },
  {
   "cell_type": "code",
   "execution_count": 8,
   "metadata": {},
   "outputs": [
    {
     "data": {
      "text/plain": [
       "[['0.6617534756660461',\n",
       "  '0.3438335657119751',\n",
       "  '0.48236820101737976',\n",
       "  '0.49761149287223816',\n",
       "  '0.23548656702041626',\n",
       "  '0.3265708386898041',\n",
       "  '0.6517200469970703',\n",
       "  '0.6288039684295654',\n",
       "  '0.20596586167812347',\n",
       "  '0.30744698643684387',\n",
       "  '0.2527482211589813',\n",
       "  '0.21774405241012573',\n",
       "  '0.6496288776397705',\n",
       "  '0.6573070883750916',\n",
       "  '0.5042654275894165',\n",
       "  '0.5637736320495605',\n",
       "  '0.22635935246944427',\n",
       "  '0.22126898169517517',\n",
       "  '0.7308969497680664',\n",
       "  '0.2431083768606186',\n",
       "  '0.22537173330783844',\n",
       "  '0.39195966720581055',\n",
       "  '0.5438459515571594',\n",
       "  '0.5551328659057617']]"
      ]
     },
     "execution_count": 8,
     "metadata": {},
     "output_type": "execute_result"
    }
   ],
   "source": [
    "import sagemaker\n",
    "from sagemaker import Predictor\n",
    "import numpy as np\n",
    "from sagemaker.predictor import json_serializer, json_deserializer, Predictor\n",
    "\n",
    "# endpoint_name = SOLUTION_CONFIG[\"SolutionPrefix\"] + \"-demo-endpoint\" \n",
    "\n",
    "# Make prediction requests to an Amazon SageMaker endpoint.\n",
    "predictor = Predictor(\n",
    "    endpoint_name = endpoint_name,\n",
    "    sagemaker_session = sagemaker.Session(),\n",
    "    deserializer =  sagemaker.deserializers.CSVDeserializer(),\n",
    "    serializer = sagemaker.serializers.CSVSerializer(),\n",
    ")\n",
    "\n",
    "# Retrieve predictions by passing the test dataset to the Predictor's predict method.\n",
    "prediction = predictor.predict(df_test.values)\n",
    "prediction"
   ]
  },
  {
   "cell_type": "code",
   "execution_count": 9,
   "metadata": {},
   "outputs": [],
   "source": [
    "# The response is an list of lists, let's retrieve list of our predictions.\n",
    "prediction = prediction[0]"
   ]
  },
  {
   "cell_type": "code",
   "execution_count": 10,
   "metadata": {},
   "outputs": [
    {
     "data": {
      "text/plain": [
       "[0.6617534756660461,\n",
       " 0.3438335657119751,\n",
       " 0.48236820101737976,\n",
       " 0.49761149287223816,\n",
       " 0.23548656702041626,\n",
       " 0.3265708386898041,\n",
       " 0.6517200469970703,\n",
       " 0.6288039684295654,\n",
       " 0.20596586167812347,\n",
       " 0.30744698643684387,\n",
       " 0.2527482211589813,\n",
       " 0.21774405241012573,\n",
       " 0.6496288776397705,\n",
       " 0.6573070883750916,\n",
       " 0.5042654275894165,\n",
       " 0.5637736320495605,\n",
       " 0.22635935246944427,\n",
       " 0.22126898169517517,\n",
       " 0.7308969497680664,\n",
       " 0.2431083768606186,\n",
       " 0.22537173330783844,\n",
       " 0.39195966720581055,\n",
       " 0.5438459515571594,\n",
       " 0.5551328659057617]"
      ]
     },
     "execution_count": 10,
     "metadata": {},
     "output_type": "execute_result"
    }
   ],
   "source": [
    "# Since the predictions are strings, let's convert them back to floats. \n",
    "prediction_float = [float(pred) for pred in prediction]\n",
    "prediction_float"
   ]
  },
  {
   "cell_type": "markdown",
   "metadata": {},
   "source": [
    "Let's take a look at the total count of predicted survival status and evaluate the model performance"
   ]
  },
  {
   "cell_type": "code",
   "execution_count": 11,
   "metadata": {},
   "outputs": [
    {
     "name": "stdout",
     "output_type": "stream",
     "text": [
      "[24]\n"
     ]
    }
   ],
   "source": [
    "print(np.bincount(prediction_float))"
   ]
  },
  {
   "cell_type": "code",
   "execution_count": 12,
   "metadata": {},
   "outputs": [],
   "source": [
    "# Let's convert the floats to ints by a set threshold of 0.5.\n",
    "predictions_rounded = [1 if pred > 0.5 else 0 for pred in prediction_float]\n",
    "predictions_rounded"
   ]
  },
  {
   "cell_type": "code",
   "execution_count": 14,
   "metadata": {},
   "outputs": [
    {
     "data": {
      "text/plain": [
       "array([[12,  4],\n",
       "       [ 2,  6]])"
      ]
     },
     "execution_count": 14,
     "metadata": {},
     "output_type": "execute_result"
    }
   ],
   "source": [
    "import sklearn.metrics as skm\n",
    "target_names = [False, True]\n",
    "skm.confusion_matrix(groundtruth, predictions_rounded)"
   ]
  },
  {
   "cell_type": "code",
   "execution_count": 15,
   "metadata": {},
   "outputs": [
    {
     "name": "stdout",
     "output_type": "stream",
     "text": [
      "              precision    recall  f1-score   support\n",
      "\n",
      "           0       0.86      0.75      0.80        16\n",
      "           1       0.60      0.75      0.67         8\n",
      "\n",
      "    accuracy                           0.75        24\n",
      "   macro avg       0.73      0.75      0.73        24\n",
      "weighted avg       0.77      0.75      0.76        24\n",
      "\n"
     ]
    }
   ],
   "source": [
    "print(skm.classification_report(groundtruth, predictions_rounded))"
   ]
  },
  {
   "cell_type": "code",
   "execution_count": 16,
   "metadata": {},
   "outputs": [
    {
     "data": {
      "text/plain": [
       "0.8125"
      ]
     },
     "execution_count": 16,
     "metadata": {},
     "output_type": "execute_result"
    }
   ],
   "source": [
    "# plot ROC curve, and compute AUC score\n",
    "fpr, tpr, thresholds = skm.roc_curve(groundtruth, prediction_float)\n",
    "skm.auc(fpr, tpr)"
   ]
  },
  {
   "cell_type": "code",
   "execution_count": 20,
   "metadata": {},
   "outputs": [
    {
     "data": {
      "image/png": "[encoded data removed]",
      "text/plain": [
       "<Figure size 360x360 with 1 Axes>"
      ]
     },
     "metadata": {
      "needs_background": "light"
     },
     "output_type": "display_data"
    }
   ],
   "source": [
    "from sklearn.metrics import roc_curve\n",
    "from sklearn.metrics import roc_auc_score\n",
    "from matplotlib import pyplot as plt\n",
    "\n",
    "plt.subplots(1, figsize=(5,5))\n",
    "plt.title('Receiver Operating Characteristic')\n",
    "plt.plot(fpr, tpr)\n",
    "plt.plot([0, 1], ls=\"--\")\n",
    "plt.plot([0, 0], [1, 0] , c=\".7\"), plt.plot([1, 1] , c=\".7\")\n",
    "plt.ylabel('True Positive Rate')\n",
    "plt.xlabel('False Positive Rate')\n",
    "plt.show()"
   ]
  }
 ],
 "metadata": {
  "instance_type": "ml.t3.medium",
  "kernelspec": {
   "display_name": "Python 3 (Data Science)",
   "language": "python",
   "name": "python3__SAGEMAKER_INTERNAL__arn:aws:sagemaker:us-west-2:236514542706:image/datascience-1.0"
  },
  "language_info": {
   "codemirror_mode": {
    "name": "ipython",
    "version": 3
   },
   "file_extension": ".py",
   "mimetype": "text/x-python",
   "name": "python",
   "nbconvert_exporter": "python",
   "pygments_lexer": "ipython3",
   "version": "3.7.10"
  }
 },
 "nbformat": 4,
 "nbformat_minor": 4
}
