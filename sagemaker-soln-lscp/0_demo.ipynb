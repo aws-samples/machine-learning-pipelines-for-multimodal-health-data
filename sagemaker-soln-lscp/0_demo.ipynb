{
 "cells": [
  {
   "cell_type": "markdown",
   "metadata": {},
   "source": [
    "# Lung Cancer Survival Prediction Endpoint Demo\n",
    "\n",
    "In this endpoint demo notebook, we demonstrate how to send inference requests to an pre-deployed endpoint and get the model response.\n",
    "\n",
    "To find more details of an end-to-end solution for data processing, feature store, model training and deployement using SageMaker, check out the solution notebook `xxxxxxx.ipynb`. It shows how-to for the following steps: 1/ processing multi-modal data (genomic, clinical, medical imaging) to obtain ML features, 2/ ingesting and managing multi-modal features in SageMaker Feature Store, 3/ training a survival status prediction model using PCA and XGBoost, 4/ hosting a model for inference. The exposition in this notebook is deliberately brief. \n",
    "\n",
    ">**<span style=\"color:RED\">Important</span>**: \n",
    ">This solution is for demonstrative purposes only. It is not for clinical use. The ML inference should not be used to inform any clinical decision. The associated notebooks, including the trained model and sample data, are not intended for production."
   ]
  },
  {
   "cell_type": "markdown",
   "metadata": {},
   "source": [
    "### (dev only) Hosting a trained model from local model.tar.gz\n",
    "This section ought to be removed once tested by solution team. JS team should not include this section in integration test."
   ]
  },
  {
   "cell_type": "code",
   "execution_count": 5,
   "metadata": {},
   "outputs": [],
   "source": [
    "import sagemaker\n",
    "import boto3\n",
    "role = sagemaker.get_execution_role()\n",
    "sagemaker_session = sagemaker.Session()\n",
    "region = sagemaker_session.boto_region_name\n",
    "account_id = boto3.client('sts').get_caller_identity().get('Account')\n",
    "\n",
    "default_bucket = sagemaker_session.default_bucket()\n",
    "prefix = 'sagemaker/sagemaker-soln-lcsp-js'"
   ]
  },
  {
   "cell_type": "code",
   "execution_count": 10,
   "metadata": {},
   "outputs": [],
   "source": [
    "model_local = './js-us-west-2-output/model.tar.gz'\n",
    "model_s3_prefix = f's3://{default_bucket}/{prefix}/js-us-west-2-output'\n",
    "model_s3_uri = sagemaker.s3.S3Uploader.upload(model_local, model_s3_prefix, sagemaker_session=sagemaker_session)"
   ]
  },
  {
   "cell_type": "code",
   "execution_count": 11,
   "metadata": {},
   "outputs": [],
   "source": [
    "image = sagemaker.image_uris.retrieve('xgboost', region=region, version='1.2-1')\n",
    "model = sagemaker.model.Model(image, model_data=model_s3_uri, role = role, sagemaker_session=sagemaker_session)"
   ]
  },
  {
   "cell_type": "code",
   "execution_count": null,
   "metadata": {},
   "outputs": [],
   "source": [
    "import uuid\n",
    "suffix=uuid.uuid1().hex[:5] # to be used in resource names\n",
    "endpoint_name = f'sagemaker-soln-lcsp-js-{suffix}'\n",
    "model.deploy(initial_instance_count=1, instance_type='ml.t2.large', endpoint_name=endpoint_name)"
   ]
  },
  {
   "cell_type": "markdown",
   "metadata": {},
   "source": [
    "### Step 1: Read in the solution config"
   ]
  },
  {
   "cell_type": "code",
   "execution_count": null,
   "metadata": {},
   "outputs": [],
   "source": [
    "# import json\n",
    "\n",
    "# SOLUTION_CONFIG = json.load(open(\"stack_outputs.json\"))\n",
    "# ROLE = SOLUTION_CONFIG[\"IamRole\"]\n",
    "# SOLUTION_BUCKET = SOLUTION_CONFIG[\"SolutionS3Bucket\"]\n",
    "# REGION = SOLUTION_CONFIG[\"AWSRegion\"]\n",
    "# SOLUTION_NAME = SOLUTION_CONFIG[\"SolutionName\"]\n",
    "# BUCKET = SOLUTION_CONFIG[\"S3Bucket\"]"
   ]
  },
  {
   "cell_type": "markdown",
   "metadata": {},
   "source": [
    "### Step 2: Download and read in the multimodal dataset for inference\n",
    "\n",
    "The test multimodal dataset consists of genomic, clinical and imaging features for X patients. The features have been condensed by PCA from 216 to 65 principal components."
   ]
  },
  {
   "cell_type": "code",
   "execution_count": null,
   "metadata": {},
   "outputs": [],
   "source": [
    "# from sagemaker.s3 import S3Downloader\n",
    "\n",
    "# input_data_bucket = f\"s3://{SOLUTION_BUCKET}-{REGION}/{SOLUTION_NAME}/data\"\n",
    "# print(\"original data: \")\n",
    "# S3Downloader.list(input_data_bucket)"
   ]
  },
  {
   "cell_type": "markdown",
   "metadata": {},
   "source": [
    "#### Download the data for inference from S3"
   ]
  },
  {
   "cell_type": "code",
   "execution_count": null,
   "metadata": {},
   "outputs": [],
   "source": [
    "# inference_data = f\"{input_data_bucket}/test.csv\"\n",
    "# !aws s3 cp $inference_data ."
   ]
  },
  {
   "cell_type": "code",
   "execution_count": 24,
   "metadata": {},
   "outputs": [
    {
     "name": "stdout",
     "output_type": "stream",
     "text": [
      "(24, 66)\n"
     ]
    }
   ],
   "source": [
    "import pandas as pd\n",
    "\n",
    "df_test = pd.read_csv(\"js-us-west-2-output/test.csv\", header=None)\n",
    "print(df_test.shape)\n",
    "groundtruth = df_test[0].values\n",
    "df_test = df_test.drop(columns=[0])"
   ]
  },
  {
   "cell_type": "code",
   "execution_count": 25,
   "metadata": {},
   "outputs": [
    {
     "data": {
      "text/html": [
       "<div>\n",
       "<style scoped>\n",
       "    .dataframe tbody tr th:only-of-type {\n",
       "        vertical-align: middle;\n",
       "    }\n",
       "\n",
       "    .dataframe tbody tr th {\n",
       "        vertical-align: top;\n",
       "    }\n",
       "\n",
       "    .dataframe thead th {\n",
       "        text-align: right;\n",
       "    }\n",
       "</style>\n",
       "<table border=\"1\" class=\"dataframe\">\n",
       "  <thead>\n",
       "    <tr style=\"text-align: right;\">\n",
       "      <th></th>\n",
       "      <th>1</th>\n",
       "      <th>2</th>\n",
       "      <th>3</th>\n",
       "      <th>4</th>\n",
       "      <th>5</th>\n",
       "      <th>6</th>\n",
       "      <th>7</th>\n",
       "      <th>8</th>\n",
       "      <th>9</th>\n",
       "      <th>10</th>\n",
       "      <th>...</th>\n",
       "      <th>56</th>\n",
       "      <th>57</th>\n",
       "      <th>58</th>\n",
       "      <th>59</th>\n",
       "      <th>60</th>\n",
       "      <th>61</th>\n",
       "      <th>62</th>\n",
       "      <th>63</th>\n",
       "      <th>64</th>\n",
       "      <th>65</th>\n",
       "    </tr>\n",
       "  </thead>\n",
       "  <tbody>\n",
       "    <tr>\n",
       "      <th>0</th>\n",
       "      <td>-4.580822</td>\n",
       "      <td>4.778989</td>\n",
       "      <td>1.796450</td>\n",
       "      <td>-1.587991</td>\n",
       "      <td>-2.254577</td>\n",
       "      <td>-0.992406</td>\n",
       "      <td>1.329909</td>\n",
       "      <td>1.500276</td>\n",
       "      <td>-0.564313</td>\n",
       "      <td>-0.170869</td>\n",
       "      <td>...</td>\n",
       "      <td>1.543979</td>\n",
       "      <td>1.883418</td>\n",
       "      <td>1.032847</td>\n",
       "      <td>-0.924655</td>\n",
       "      <td>-0.505878</td>\n",
       "      <td>0.224683</td>\n",
       "      <td>-0.689189</td>\n",
       "      <td>-0.929684</td>\n",
       "      <td>0.394437</td>\n",
       "      <td>1.207870</td>\n",
       "    </tr>\n",
       "    <tr>\n",
       "      <th>1</th>\n",
       "      <td>12.791638</td>\n",
       "      <td>0.107049</td>\n",
       "      <td>-0.136994</td>\n",
       "      <td>-0.964423</td>\n",
       "      <td>0.017514</td>\n",
       "      <td>0.513931</td>\n",
       "      <td>0.086338</td>\n",
       "      <td>2.386275</td>\n",
       "      <td>-1.994754</td>\n",
       "      <td>0.244188</td>\n",
       "      <td>...</td>\n",
       "      <td>-0.320036</td>\n",
       "      <td>-0.389636</td>\n",
       "      <td>0.584013</td>\n",
       "      <td>0.116580</td>\n",
       "      <td>0.332778</td>\n",
       "      <td>1.098054</td>\n",
       "      <td>-0.246963</td>\n",
       "      <td>-1.016920</td>\n",
       "      <td>-1.405553</td>\n",
       "      <td>-0.400758</td>\n",
       "    </tr>\n",
       "    <tr>\n",
       "      <th>2</th>\n",
       "      <td>-6.650556</td>\n",
       "      <td>0.387462</td>\n",
       "      <td>-3.685193</td>\n",
       "      <td>-3.511565</td>\n",
       "      <td>0.171694</td>\n",
       "      <td>-0.518721</td>\n",
       "      <td>-2.470869</td>\n",
       "      <td>3.635547</td>\n",
       "      <td>0.896038</td>\n",
       "      <td>-1.177886</td>\n",
       "      <td>...</td>\n",
       "      <td>-0.835626</td>\n",
       "      <td>0.058240</td>\n",
       "      <td>-1.875023</td>\n",
       "      <td>-0.521941</td>\n",
       "      <td>-0.225894</td>\n",
       "      <td>-0.303791</td>\n",
       "      <td>1.210972</td>\n",
       "      <td>0.630887</td>\n",
       "      <td>-1.033824</td>\n",
       "      <td>1.368265</td>\n",
       "    </tr>\n",
       "    <tr>\n",
       "      <th>3</th>\n",
       "      <td>12.884350</td>\n",
       "      <td>0.469195</td>\n",
       "      <td>-2.623686</td>\n",
       "      <td>0.795279</td>\n",
       "      <td>-1.279601</td>\n",
       "      <td>1.274340</td>\n",
       "      <td>-2.278928</td>\n",
       "      <td>-0.307392</td>\n",
       "      <td>-2.002069</td>\n",
       "      <td>0.676743</td>\n",
       "      <td>...</td>\n",
       "      <td>-0.800259</td>\n",
       "      <td>1.468973</td>\n",
       "      <td>1.478950</td>\n",
       "      <td>0.881505</td>\n",
       "      <td>0.699133</td>\n",
       "      <td>0.031382</td>\n",
       "      <td>0.478656</td>\n",
       "      <td>2.755765</td>\n",
       "      <td>-0.022756</td>\n",
       "      <td>-3.566670</td>\n",
       "    </tr>\n",
       "    <tr>\n",
       "      <th>4</th>\n",
       "      <td>-3.013720</td>\n",
       "      <td>-2.245453</td>\n",
       "      <td>1.419483</td>\n",
       "      <td>-5.974647</td>\n",
       "      <td>-1.185193</td>\n",
       "      <td>1.607399</td>\n",
       "      <td>0.492786</td>\n",
       "      <td>-0.757440</td>\n",
       "      <td>-0.376684</td>\n",
       "      <td>-0.993567</td>\n",
       "      <td>...</td>\n",
       "      <td>0.821061</td>\n",
       "      <td>0.050708</td>\n",
       "      <td>-0.238885</td>\n",
       "      <td>-0.205702</td>\n",
       "      <td>-0.310094</td>\n",
       "      <td>1.212688</td>\n",
       "      <td>-2.072481</td>\n",
       "      <td>-0.197707</td>\n",
       "      <td>-1.123059</td>\n",
       "      <td>0.362785</td>\n",
       "    </tr>\n",
       "  </tbody>\n",
       "</table>\n",
       "<p>5 rows × 65 columns</p>\n",
       "</div>"
      ],
      "text/plain": [
       "          1         2         3         4         5         6         7   \\\n",
       "0  -4.580822  4.778989  1.796450 -1.587991 -2.254577 -0.992406  1.329909   \n",
       "1  12.791638  0.107049 -0.136994 -0.964423  0.017514  0.513931  0.086338   \n",
       "2  -6.650556  0.387462 -3.685193 -3.511565  0.171694 -0.518721 -2.470869   \n",
       "3  12.884350  0.469195 -2.623686  0.795279 -1.279601  1.274340 -2.278928   \n",
       "4  -3.013720 -2.245453  1.419483 -5.974647 -1.185193  1.607399  0.492786   \n",
       "\n",
       "         8         9         10  ...        56        57        58        59  \\\n",
       "0  1.500276 -0.564313 -0.170869  ...  1.543979  1.883418  1.032847 -0.924655   \n",
       "1  2.386275 -1.994754  0.244188  ... -0.320036 -0.389636  0.584013  0.116580   \n",
       "2  3.635547  0.896038 -1.177886  ... -0.835626  0.058240 -1.875023 -0.521941   \n",
       "3 -0.307392 -2.002069  0.676743  ... -0.800259  1.468973  1.478950  0.881505   \n",
       "4 -0.757440 -0.376684 -0.993567  ...  0.821061  0.050708 -0.238885 -0.205702   \n",
       "\n",
       "         60        61        62        63        64        65  \n",
       "0 -0.505878  0.224683 -0.689189 -0.929684  0.394437  1.207870  \n",
       "1  0.332778  1.098054 -0.246963 -1.016920 -1.405553 -0.400758  \n",
       "2 -0.225894 -0.303791  1.210972  0.630887 -1.033824  1.368265  \n",
       "3  0.699133  0.031382  0.478656  2.755765 -0.022756 -3.566670  \n",
       "4 -0.310094  1.212688 -2.072481 -0.197707 -1.123059  0.362785  \n",
       "\n",
       "[5 rows x 65 columns]"
      ]
     },
     "execution_count": 25,
     "metadata": {},
     "output_type": "execute_result"
    }
   ],
   "source": [
    "df_test.head()"
   ]
  },
  {
   "cell_type": "markdown",
   "metadata": {},
   "source": [
    "The features are principal components computed from 216 features. The original feature vector include features from genomic secondary analysis, clinical health records, and radiomic features from within the lung tumor in computed tomography images. \n",
    "\n",
    "#### Snapshot of data\n",
    "##### Clinical\n",
    "![clinical-data](../images/clinical-data-screenshot.png)\n",
    "\n",
    "#### Genomic\n",
    "![genomic-data](../images/genomic-secondary.png)\n",
    "\n",
    "#### Medical imaging\n",
    "![imaging-data](../images/CT-tumor-overlay.png)"
   ]
  },
  {
   "cell_type": "markdown",
   "metadata": {},
   "source": [
    "### Step 3: Predicting survival status"
   ]
  },
  {
   "cell_type": "markdown",
   "metadata": {},
   "source": [
    "If you want to use the demo endpoint successfully, your dataframe columns should be identical to the `df_tabtext_score` as shown in the previous step."
   ]
  },
  {
   "cell_type": "code",
   "execution_count": null,
   "metadata": {},
   "outputs": [],
   "source": [
    "import sagemaker\n",
    "from sagemaker import Predictor\n",
    "import numpy as np\n",
    "\n",
    "# endpoint_name = SOLUTION_CONFIG[\"SolutionPrefix\"] + \"-demo-endpoint\" \n",
    "\n",
    "\n",
    "predictor = Predictor(\n",
    "    endpoint_name = endpoint_name,\n",
    "    sagemaker_session = sagemaker.Session(),\n",
    "    deserializer =  sagemaker.deserializers.JSONDeserializer(),\n",
    "    serializer = sagemaker.serializers.CSVSerializer(),\n",
    ")\n",
    "\n",
    "prediction = predictor.predict(df_test.values)\n"
   ]
  },
  {
   "cell_type": "markdown",
   "metadata": {},
   "source": [
    "Let's take a look at the total count of predicted survival status and evaluate the model performance"
   ]
  },
  {
   "cell_type": "code",
   "execution_count": null,
   "metadata": {},
   "outputs": [],
   "source": [
    "print(np.bincount(prediction))"
   ]
  },
  {
   "cell_type": "code",
   "execution_count": null,
   "metadata": {},
   "outputs": [],
   "source": [
    "import sklearn.metrics as skm\n",
    "skm.confusion_matrix(groundtruth, prediction)"
   ]
  },
  {
   "cell_type": "code",
   "execution_count": null,
   "metadata": {},
   "outputs": [],
   "source": [
    "skm.classification_report(groundtruth, prediction)"
   ]
  },
  {
   "cell_type": "code",
   "execution_count": null,
   "metadata": {},
   "outputs": [],
   "source": [
    "# plot ROC curve, and compute AUC score\n",
    "fpr, tpr, thresholds = metrics.roc_curve(groundtruth, prediction, pos_label=1)\n",
    "metrics.auc(fpr, tpr)"
   ]
  }
 ],
 "metadata": {
  "instance_type": "ml.t3.medium",
  "kernelspec": {
   "display_name": "Python 3 (Data Science)",
   "language": "python",
   "name": "python3__SAGEMAKER_INTERNAL__arn:aws:sagemaker:us-west-2:236514542706:image/datascience-1.0"
  },
  "language_info": {
   "codemirror_mode": {
    "name": "ipython",
    "version": 3
   },
   "file_extension": ".py",
   "mimetype": "text/x-python",
   "name": "python",
   "nbconvert_exporter": "python",
   "pygments_lexer": "ipython3",
   "version": "3.7.10"
  }
 },
 "nbformat": 4,
 "nbformat_minor": 4
}
