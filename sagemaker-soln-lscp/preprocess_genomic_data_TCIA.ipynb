{
 "cells": [
  {
   "cell_type": "markdown",
   "id": "866f9740",
   "metadata": {},
   "source": [
    "# An alternate approach to use the NSCLC gene expression data hosted on TCIA. "
   ]
  },
  {
   "cell_type": "markdown",
   "id": "1e12321c",
   "metadata": {},
   "source": [
    "## Unlike our blog, which uses Partner solution (Illumina DRAGEN), this dataset was pre-processed using open-source tools and made available on TCIA. It used STAR v.2.3 for alignment and Cufflinks v.2.0.2 for expression calls. Further details can be found in [1]. "
   ]
  },
  {
   "cell_type": "markdown",
   "id": "35523aab",
   "metadata": {},
   "source": [
    "#### [1] Zhou, Mu, et al. \"Non–small cell lung cancer radiogenomics map identifies relationships between molecular and imaging phenotypes with prognostic implications.\" Radiology 286.1 (2018): 307-315."
   ]
  },
  {
   "cell_type": "markdown",
   "id": "e183f804",
   "metadata": {},
   "source": [
    "## Step 1 - Download file \"GSE103584_R01_NSCLC_RNAseq.txt.gz\" from https://www.ncbi.nlm.nih.gov/geo/query/acc.cgi?acc=GSE103584"
   ]
  },
  {
   "cell_type": "markdown",
   "id": "7c1dd3c4",
   "metadata": {},
   "source": [
    "## Step 2 - Create a subset by removing case IDs and genes that are not relevant"
   ]
  },
  {
   "cell_type": "code",
   "execution_count": 1,
   "id": "6716b97a",
   "metadata": {},
   "outputs": [],
   "source": [
    "import pandas as pd\n",
    "\n",
    "gen_data = pd.read_csv('GSE103584_R01_NSCLC_RNAseq.txt', delimiter = '\\t')\n",
    "\n",
    "# Remove case IDs that do not have weight and pack/years in clinical data \n",
    "l_caseID_drop = ['R01-003', 'R01-004', 'R01-006', 'R01-007', 'R01-015', 'R01-016', 'R01-018', 'R01-022', 'R01-023', 'R01-098', 'R01-105']\n",
    "\n",
    "gen_data1 = gen_data.drop(l_caseID_drop, axis = 1)"
   ]
  },
  {
   "cell_type": "code",
   "execution_count": 2,
   "id": "77fc52f2",
   "metadata": {},
   "outputs": [],
   "source": [
    "# Add column name for genes \n",
    "gen_data1.rename(columns={'Unnamed: 0':'Case_ID'}, inplace=True)\n",
    "\n",
    "# Transpose the dataframe such that rows = case IDs and cols = genes \n",
    "gen_data1.set_index('Case_ID',inplace=True)\n",
    "gen_data_t = gen_data1.transpose()"
   ]
  },
  {
   "cell_type": "code",
   "execution_count": 3,
   "id": "d7c0f394",
   "metadata": {},
   "outputs": [],
   "source": [
    "# Keep the genes suggested in Zhou, Mu, et al. [1]\n",
    "# These are genes corresponding to Metagenes 19, 10, 9, 4, 3, 21 in Table 2 of the paper\n",
    "\n",
    "l_genes = ['LRIG1', 'HPGD', 'GDF15', 'CDH2', 'POSTN', 'VCAN', 'PDGFRA', 'VCAM1', 'CD44', 'CD48', 'CD4', 'LYL1', 'SPI1', 'CD37', 'VIM', 'LMO2', 'EGR2', 'BGN', 'COL4A1', 'COL5A1', 'COL5A2']\n",
    "gen_data2 = gen_data_t[l_genes]"
   ]
  },
  {
   "cell_type": "code",
   "execution_count": 4,
   "id": "85de026b",
   "metadata": {},
   "outputs": [],
   "source": [
    "# Replace NaN with 0\n",
    "gen_data3 = gen_data2.fillna(0)\n",
    "\n",
    "#Sort rows by Case_ID \n",
    "gen_data4 = gen_data3.sort_index(axis = 0)\n",
    "\n",
    "# Add column for 'SurvivalStatus' (label), obtained from Clinical dataset\n",
    "l_survivalstatus = [1,0,0,0,1,0,1,1,0,0,1,1,0,1,0,1,1,0,1,1,0,1,0,0,0,0,1,0,0,1,0,1,0,0,0,0,0,0,1,1,0,0,0,1,1,0,0,1,1,0,0,0,1,0,0,1,1,0,0,1,1,1,1,0,1,0,1,0,0,0,0,0,1,1,0,0,0,1,0,1,0,0,0,0,0,0,0,0,1,0,0,0,0,1,0,0,0,0,1,0,0,0,0,0,0,1,0,1,0,0,0,1,0,1,1,0,0,0,0]\n",
    "\n",
    "gen_data4[\"SurvivalStatus\"] = l_survivalstatus"
   ]
  },
  {
   "cell_type": "markdown",
   "id": "797c4b0e",
   "metadata": {},
   "source": [
    "## Step 3 - Store preprocessed data in CSV file"
   ]
  },
  {
   "cell_type": "code",
   "execution_count": 5,
   "id": "105a3776",
   "metadata": {},
   "outputs": [],
   "source": [
    "#Save data in CSV file. This file will be used as input for 'preprocess-genomic-data.ipynb'\n",
    "gen_data4.to_csv (r'Genomic-data-119patients-TCIA.csv')"
   ]
  },
  {
   "cell_type": "markdown",
   "id": "816ad273",
   "metadata": {},
   "source": [
    "## Step 4 - Manually add 'Case_ID' to the first cell of the CSV file (row0, col0). "
   ]
  },
  {
   "cell_type": "code",
   "execution_count": null,
   "id": "b33ce943",
   "metadata": {},
   "outputs": [],
   "source": []
  }
 ],
 "metadata": {
  "kernelspec": {
   "display_name": "conda_python3",
   "language": "python",
   "name": "conda_python3"
  },
  "language_info": {
   "codemirror_mode": {
    "name": "ipython",
    "version": 3
   },
   "file_extension": ".py",
   "mimetype": "text/x-python",
   "name": "python",
   "nbconvert_exporter": "python",
   "pygments_lexer": "ipython3",
   "version": "3.6.13"
  }
 },
 "nbformat": 4,
 "nbformat_minor": 5
}
