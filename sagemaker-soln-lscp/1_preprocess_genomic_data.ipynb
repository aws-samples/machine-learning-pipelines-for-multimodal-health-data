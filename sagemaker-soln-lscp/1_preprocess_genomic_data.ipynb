{
 "cells": [
  {
   "cell_type": "markdown",
   "metadata": {},
   "source": [
    "# Preprocess Genomic Data"
   ]
  },
  {
   "cell_type": "markdown",
   "metadata": {},
   "source": [
    "This notebook is used to read genomic data (in tabular format) from S3 and store features in SageMaker FeatureStore."
   ]
  },
  {
   "cell_type": "markdown",
   "metadata": {},
   "source": [
    "## Step 1: Read in the SageMaker JumpStart Solution configuration\n",
    "#### Setting up various configuration parameters from the provided json file."
   ]
  },
  {
   "cell_type": "code",
   "execution_count": 1,
   "metadata": {},
   "outputs": [],
   "source": [
    "import json\n",
    "\n",
    "SOLUTION_CONFIG = json.load(open('stack_outputs.json'))\n",
    "SOLUTION_BUCKET = SOLUTION_CONFIG['SolutionS3Bucket']\n",
    "REGION = SOLUTION_CONFIG['AWSRegion']\n",
    "SOLUTION_PREFIX = SOLUTION_CONFIG['SolutionPrefix']\n",
    "SOLUTION_NAME = SOLUTION_CONFIG['SolutionName']\n",
    "BUCKET = SOLUTION_CONFIG['S3Bucket']\n",
    "ROLE = SOLUTION_CONFIG['IamRole']"
   ]
  },
  {
   "cell_type": "markdown",
   "metadata": {},
   "source": [
    "## Step 2: Download and read in the genomic dataset\n",
    "#### Reading the txt file containing the data. Then creating a subset by removing case IDs and genes that are not relevant."
   ]
  },
  {
   "cell_type": "code",
   "execution_count": 2,
   "metadata": {},
   "outputs": [],
   "source": [
    "import pandas as pd\n",
    "\n",
    "gen_data = pd.read_csv('GSE103584_R01_NSCLC_RNAseq.txt', delimiter = '\\t')\n",
    "\n",
    "# Remove case IDs that do not have weight and pack/years in clinical data \n",
    "l_caseID_drop = ['R01-003', 'R01-004', 'R01-006', 'R01-007', 'R01-015', 'R01-016', 'R01-018', 'R01-022', 'R01-023', 'R01-098', 'R01-105']\n",
    "\n",
    "gen_data1 = gen_data.drop(l_caseID_drop, axis = 1)\n",
    "\n",
    "# Add column name for genes \n",
    "gen_data1.rename(columns={'Unnamed: 0':'index_temp'}, inplace=True)\n",
    "\n",
    "# Transpose the dataframe such that rows = case IDs and cols = genes \n",
    "gen_data1.set_index('index_temp',inplace=True)\n",
    "gen_data_t = gen_data1.transpose()\n",
    "gen_data_t.reset_index(inplace=True)\n",
    "gen_data_t.rename(columns={'index':'Case_ID'}, inplace=True)\n",
    "\n"
   ]
  },
  {
   "cell_type": "code",
   "execution_count": 3,
   "metadata": {},
   "outputs": [],
   "source": [
    "# Keep the genes suggested in Zhou, Mu, et al. [1]\n",
    "# These are genes corresponding to Metagenes 19, 10, 9, 4, 3, 21 in Table 2 of the paper\n",
    "\n",
    "l_genes = ['Case_ID','LRIG1', 'HPGD', 'GDF15', 'CDH2', 'POSTN', 'VCAN', 'PDGFRA', 'VCAM1', 'CD44', 'CD48', 'CD4', 'LYL1', 'SPI1', 'CD37', 'VIM', 'LMO2', 'EGR2', 'BGN', 'COL4A1', 'COL5A1', 'COL5A2']\n",
    "\n",
    "gen_data2 = gen_data_t[l_genes]\n",
    "\n",
    "# Replace NaN with 0\n",
    "data_gen = gen_data2.fillna(0)\n"
   ]
  },
  {
   "cell_type": "markdown",
   "metadata": {},
   "source": [
    "## Step 3: Create SageMaker FeatureStore"
   ]
  },
  {
   "cell_type": "markdown",
   "metadata": {},
   "source": [
    "Firstly, we cast the object dtype to string which will then map to String feature type in the SageMaker FeatureStore. We add `record_identifier_feature_name` and `event_time_feature_name` columns to the dataset for creating the feature store."
   ]
  },
  {
   "cell_type": "code",
   "execution_count": 4,
   "metadata": {},
   "outputs": [],
   "source": [
    "import time\n",
    "import pandas as pd\n",
    "from time import gmtime, strftime, sleep\n",
    "\n",
    "# Pandas by default use `object` dtype for string values for backward compatibility. See https://pandas.pydata.org/pandas-docs/stable/user_guide/text.html. This function converts features of string from `object` to `string`\n",
    "def cast_object_to_string(data_frame):\n",
    "    for label in data_frame.columns:\n",
    "        if data_frame.dtypes[label] == 'object':\n",
    "            data_frame[label] = data_frame[label].astype('string')\n",
    "\n",
    "# Cast object dtype to string. SageMaker FeatureStore Python SDK will then map the string dtype to String feature type.\n",
    "cast_object_to_string(data_gen)\n",
    "\n",
    "# Record identifier and event time feature names\n",
    "record_identifier_feature_name = 'Case_ID'\n",
    "event_time_feature_name = 'EventTime'\n",
    "\n",
    "current_time_sec = float(round(time.time()))\n",
    "\n",
    "# Append EventTime feature\n",
    "data_gen[event_time_feature_name] = current_time_sec\n",
    "# pd.Series([current_time_sec]*len(data_gen), dtype='float64')"
   ]
  },
  {
   "cell_type": "markdown",
   "metadata": {},
   "source": [
    "Next step, we define the FeatureGroup and load feature definitions to the feature group."
   ]
  },
  {
   "cell_type": "code",
   "execution_count": 5,
   "metadata": {},
   "outputs": [
    {
     "name": "stdout",
     "output_type": "stream",
     "text": [
      "Stored 'genomic_feature_group_name' (str)\n"
     ]
    },
    {
     "data": {
      "text/plain": [
       "[FeatureDefinition(feature_name='Case_ID', feature_type=<FeatureTypeEnum.STRING: 'String'>),\n",
       " FeatureDefinition(feature_name='LRIG1', feature_type=<FeatureTypeEnum.FRACTIONAL: 'Fractional'>),\n",
       " FeatureDefinition(feature_name='HPGD', feature_type=<FeatureTypeEnum.FRACTIONAL: 'Fractional'>),\n",
       " FeatureDefinition(feature_name='GDF15', feature_type=<FeatureTypeEnum.FRACTIONAL: 'Fractional'>),\n",
       " FeatureDefinition(feature_name='CDH2', feature_type=<FeatureTypeEnum.FRACTIONAL: 'Fractional'>),\n",
       " FeatureDefinition(feature_name='POSTN', feature_type=<FeatureTypeEnum.FRACTIONAL: 'Fractional'>),\n",
       " FeatureDefinition(feature_name='VCAN', feature_type=<FeatureTypeEnum.FRACTIONAL: 'Fractional'>),\n",
       " FeatureDefinition(feature_name='PDGFRA', feature_type=<FeatureTypeEnum.FRACTIONAL: 'Fractional'>),\n",
       " FeatureDefinition(feature_name='VCAM1', feature_type=<FeatureTypeEnum.FRACTIONAL: 'Fractional'>),\n",
       " FeatureDefinition(feature_name='CD44', feature_type=<FeatureTypeEnum.FRACTIONAL: 'Fractional'>),\n",
       " FeatureDefinition(feature_name='CD48', feature_type=<FeatureTypeEnum.FRACTIONAL: 'Fractional'>),\n",
       " FeatureDefinition(feature_name='CD4', feature_type=<FeatureTypeEnum.FRACTIONAL: 'Fractional'>),\n",
       " FeatureDefinition(feature_name='LYL1', feature_type=<FeatureTypeEnum.FRACTIONAL: 'Fractional'>),\n",
       " FeatureDefinition(feature_name='SPI1', feature_type=<FeatureTypeEnum.FRACTIONAL: 'Fractional'>),\n",
       " FeatureDefinition(feature_name='CD37', feature_type=<FeatureTypeEnum.FRACTIONAL: 'Fractional'>),\n",
       " FeatureDefinition(feature_name='VIM', feature_type=<FeatureTypeEnum.FRACTIONAL: 'Fractional'>),\n",
       " FeatureDefinition(feature_name='LMO2', feature_type=<FeatureTypeEnum.FRACTIONAL: 'Fractional'>),\n",
       " FeatureDefinition(feature_name='EGR2', feature_type=<FeatureTypeEnum.FRACTIONAL: 'Fractional'>),\n",
       " FeatureDefinition(feature_name='BGN', feature_type=<FeatureTypeEnum.FRACTIONAL: 'Fractional'>),\n",
       " FeatureDefinition(feature_name='COL4A1', feature_type=<FeatureTypeEnum.FRACTIONAL: 'Fractional'>),\n",
       " FeatureDefinition(feature_name='COL5A1', feature_type=<FeatureTypeEnum.FRACTIONAL: 'Fractional'>),\n",
       " FeatureDefinition(feature_name='COL5A2', feature_type=<FeatureTypeEnum.FRACTIONAL: 'Fractional'>),\n",
       " FeatureDefinition(feature_name='EventTime', feature_type=<FeatureTypeEnum.FRACTIONAL: 'Fractional'>)]"
      ]
     },
     "execution_count": 5,
     "metadata": {},
     "output_type": "execute_result"
    }
   ],
   "source": [
    "import boto3\n",
    "import sagemaker\n",
    "from sagemaker.session import Session\n",
    "from sagemaker.feature_store.feature_group import FeatureGroup\n",
    "\n",
    "boto_session = boto3.Session(region_name=REGION)\n",
    "sagemaker_client = boto_session.client(service_name='sagemaker', region_name=REGION)\n",
    "featurestore_runtime = boto_session.client(service_name='sagemaker-featurestore-runtime', region_name=REGION)\n",
    "\n",
    "feature_store_session = Session(\n",
    "    boto_session=boto_session,\n",
    "    sagemaker_client=sagemaker_client,\n",
    "    sagemaker_featurestore_runtime_client=featurestore_runtime\n",
    ")\n",
    "\n",
    "genomic_feature_group_name = f'{SOLUTION_PREFIX}-genomic-feature-group'\n",
    "%store genomic_feature_group_name\n",
    "\n",
    "genomic_feature_group = FeatureGroup(name=genomic_feature_group_name, sagemaker_session=feature_store_session)\n",
    "\n",
    "# Load feature definitions to the feature group. SageMaker FeatureStore Python SDK will auto-detect the data schema based on input data.\n",
    "genomic_feature_group.load_feature_definitions(data_frame=data_gen) # output is suppressed"
   ]
  },
  {
   "cell_type": "markdown",
   "metadata": {},
   "source": [
    "We create the FeatureGroup for the genomic dataset with both online and offline store enabled."
   ]
  },
  {
   "cell_type": "code",
   "execution_count": 6,
   "metadata": {},
   "outputs": [
    {
     "name": "stdout",
     "output_type": "stream",
     "text": [
      "Waiting for Feature Group Creation\n",
      "Waiting for Feature Group Creation\n",
      "Waiting for Feature Group Creation\n",
      "Waiting for Feature Group Creation\n",
      "FeatureGroup sagemaker-soln-lcsp-js-abc-genomic-feature-group successfully created.\n",
      "CPU times: user 39.4 ms, sys: 0 ns, total: 39.4 ms\n",
      "Wall time: 20.6 s\n"
     ]
    }
   ],
   "source": [
    "%%time\n",
    "\n",
    "def wait_for_feature_group_creation_complete(feature_group):\n",
    "    status = feature_group.describe().get('FeatureGroupStatus')\n",
    "    while status == 'Creating':\n",
    "        print('Waiting for Feature Group Creation')\n",
    "        time.sleep(5)\n",
    "        status = feature_group.describe().get('FeatureGroupStatus')\n",
    "    if status != 'Created':\n",
    "        raise RuntimeError(f'Failed to create feature group {feature_group.name}')\n",
    "    print(f'FeatureGroup {feature_group.name} successfully created.')\n",
    "\n",
    "\n",
    "prefix = 'sagemaker-featurestore-demo'\n",
    "\n",
    "genomic_feature_group.create(\n",
    "    s3_uri=f's3://{BUCKET}/{prefix}',\n",
    "    record_identifier_name=record_identifier_feature_name,\n",
    "    event_time_feature_name=event_time_feature_name,\n",
    "    role_arn=ROLE,\n",
    "    enable_online_store=True\n",
    ")\n",
    "\n",
    "wait_for_feature_group_creation_complete(feature_group=genomic_feature_group)"
   ]
  },
  {
   "cell_type": "code",
   "execution_count": 7,
   "metadata": {},
   "outputs": [
    {
     "data": {
      "text/plain": [
       "'s3://js-solution-2p/sagemaker-featurestore-demo'"
      ]
     },
     "execution_count": 7,
     "metadata": {},
     "output_type": "execute_result"
    }
   ],
   "source": [
    "f's3://{BUCKET}/{prefix}'"
   ]
  },
  {
   "cell_type": "markdown",
   "metadata": {},
   "source": [
    "After the feature group is created, we can ingest the genomic dataset to its feature group."
   ]
  },
  {
   "cell_type": "code",
   "execution_count": 8,
   "metadata": {},
   "outputs": [
    {
     "data": {
      "text/plain": [
       "IngestionManagerPandas(feature_group_name='sagemaker-soln-lcsp-js-abc-genomic-feature-group', sagemaker_fs_runtime_client_config=<botocore.config.Config object at 0x7fe7f4a90950>, max_workers=3, max_processes=1, _async_result=<multiprocess.pool.MapResult object at 0x7fe7f4a65650>, _processing_pool=<pool ProcessPool(ncpus=1)>, _failed_indices=[])"
      ]
     },
     "execution_count": 8,
     "metadata": {},
     "output_type": "execute_result"
    }
   ],
   "source": [
    "genomic_feature_group.ingest(\n",
    "    data_frame=data_gen, max_workers=3, wait=True\n",
    ")"
   ]
  },
  {
   "cell_type": "code",
   "execution_count": 9,
   "metadata": {},
   "outputs": [],
   "source": [
    "# Option to delete feature group later when done to free resources.\n",
    "# genomic_feature_group.delete()"
   ]
  },
  {
   "cell_type": "markdown",
   "metadata": {},
   "source": [
    "## Next Stage"
   ]
  },
  {
   "cell_type": "markdown",
   "metadata": {},
   "source": [
    "Next, we'll take a look at preparing the clinical data."
   ]
  },
  {
   "cell_type": "markdown",
   "metadata": {},
   "source": [
    "Click here to [continue](./2_preprocess_clinical_data.ipynb)."
   ]
  }
 ],
 "metadata": {
  "instance_type": "ml.t3.medium",
  "kernelspec": {
   "display_name": "Python 3 (Data Science)",
   "language": "python",
   "name": "python3__SAGEMAKER_INTERNAL__arn:aws:sagemaker:us-east-2:429704687514:image/datascience-1.0"
  },
  "language_info": {
   "codemirror_mode": {
    "name": "ipython",
    "version": 3
   },
   "file_extension": ".py",
   "mimetype": "text/x-python",
   "name": "python",
   "nbconvert_exporter": "python",
   "pygments_lexer": "ipython3",
   "version": "3.7.10"
  }
 },
 "nbformat": 4,
 "nbformat_minor": 5
}
