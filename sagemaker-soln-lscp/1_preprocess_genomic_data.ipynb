{
 "cells": [
  {
   "cell_type": "markdown",
   "id": "a981f528",
   "metadata": {},
   "source": [
    "# Preprocess Genomic Data"
   ]
  },
  {
   "cell_type": "markdown",
   "id": "96bace70",
   "metadata": {},
   "source": [
    "This notebook is used to read genomic data (in tabular format) from S3 and store features in SageMaker FeatureStore."
   ]
  },
  {
   "cell_type": "markdown",
   "id": "91aaf205",
   "metadata": {},
   "source": [
    "## Step 1: Read in the SageMaker JumpStart Solution configuration"
   ]
  },
  {
   "cell_type": "code",
   "execution_count": null,
   "id": "7042b81c",
   "metadata": {},
   "outputs": [],
   "source": [
    "import json\n",
    "\n",
    "SOLUTION_CONFIG = json.load(open('stack_outputs.json'))\n",
    "SOLUTION_BUCKET = SOLUTION_CONFIG['SolutionS3Bucket']\n",
    "REGION = SOLUTION_CONFIG['AWSRegion']\n",
    "SOLUTION_PREFIX = SOLUTION_CONFIG['SolutionPrefix']\n",
    "SOLUTION_NAME = SOLUTION_CONFIG['SolutionName']\n",
    "BUCKET = SOLUTION_CONFIG['S3Bucket']\n",
    "ROLE = SOLUTION_CONFIG['IamRole']"
   ]
  },
  {
   "cell_type": "markdown",
   "id": "49af5edb",
   "metadata": {},
   "source": [
    "## Step 2: Download and read in the genomic dataset"
   ]
  },
  {
   "cell_type": "code",
   "execution_count": null,
   "id": "2da5a87d",
   "metadata": {},
   "outputs": [],
   "source": [
    "from sagemaker.s3 import S3Downloader\n",
    "\n",
    "input_data_bucket = f's3://{SOLUTION_BUCKET}-{REGION}/{SOLUTION_NAME}/data'\n",
    "print('solution data: ')\n",
    "S3Downloader.list(input_data_bucket)"
   ]
  },
  {
   "cell_type": "markdown",
   "id": "a25e5483",
   "metadata": {},
   "source": [
    "#### Download the input data from S3"
   ]
  },
  {
   "cell_type": "code",
   "execution_count": null,
   "id": "d514451c",
   "metadata": {},
   "outputs": [],
   "source": [
    "import pandas as pd\n",
    "\n",
    "file_name = 'Genomic-data-119patients.csv'\n",
    "\n",
    "input_data = f'{input_data_bucket}/{file_name}'\n",
    "!aws s3 cp $input_data .\n",
    "\n",
    "data_gen = pd.read_csv(file_name)"
   ]
  },
  {
   "cell_type": "markdown",
   "id": "34361fbb",
   "metadata": {},
   "source": [
    "## Step 3: Create SageMaker FeatureStore"
   ]
  },
  {
   "cell_type": "markdown",
   "id": "58ec5347",
   "metadata": {},
   "source": [
    "Firstly, we cast the object dtype to string which will then map to String feature type in the SageMaker FeatureStore. We add `record_identifier_feature_name` and `event_time_feature_name` columns to the dataset for creating the feature store."
   ]
  },
  {
   "cell_type": "code",
   "execution_count": null,
   "id": "a54eeed6",
   "metadata": {},
   "outputs": [],
   "source": [
    "import time\n",
    "import pandas as pd\n",
    "from time import gmtime, strftime, sleep\n",
    "\n",
    "# Pandas by default use `object` dtype for string values for backward compatibility. See https://pandas.pydata.org/pandas-docs/stable/user_guide/text.html. This function converts features of string from `object` to `string`\n",
    "def cast_object_to_string(data_frame):\n",
    "    for label in data_frame.columns:\n",
    "        if data_frame.dtypes[label] == 'object':\n",
    "            data_frame[label] = data_frame[label].astype('string')\n",
    "\n",
    "# Cast object dtype to string. SageMaker FeatureStore Python SDK will then map the string dtype to String feature type.\n",
    "cast_object_to_string(data_gen)\n",
    "\n",
    "# Record identifier and event time feature names\n",
    "record_identifier_feature_name = 'Case_ID'\n",
    "event_time_feature_name = 'EventTime'\n",
    "\n",
    "current_time_sec = int(round(time.time()))\n",
    "\n",
    "# Append EventTime feature\n",
    "data_gen[event_time_feature_name] = pd.Series([current_time_sec]*len(data_gen), dtype='float64')"
   ]
  },
  {
   "cell_type": "markdown",
   "id": "a7fae94b",
   "metadata": {},
   "source": [
    "Next step, we define the FeatureGroup and load feature definitions to the feature group."
   ]
  },
  {
   "cell_type": "code",
   "execution_count": null,
   "id": "5c8f4539",
   "metadata": {},
   "outputs": [],
   "source": [
    "import boto3\n",
    "import sagemaker\n",
    "from sagemaker.session import Session\n",
    "from sagemaker.feature_store.feature_group import FeatureGroup\n",
    "\n",
    "boto_session = boto3.Session(region_name=REGION)\n",
    "sagemaker_client = boto_session.client(service_name='sagemaker', region_name=REGION)\n",
    "featurestore_runtime = boto_session.client(service_name='sagemaker-featurestore-runtime', region_name=REGION)\n",
    "\n",
    "feature_store_session = Session(\n",
    "    boto_session=boto_session,\n",
    "    sagemaker_client=sagemaker_client,\n",
    "    sagemaker_featurestore_runtime_client=featurestore_runtime\n",
    ")\n",
    "\n",
    "genomic_feature_group_name = f'{SOLUTION_PREFIX}-genomic-feature-group'\n",
    "%store genomic_feature_group_name\n",
    "\n",
    "genomic_feature_group = FeatureGroup(name=genomic_feature_group_name, sagemaker_session=feature_store_session)\n",
    "\n",
    "# Load feature definitions to the feature group. SageMaker FeatureStore Python SDK will auto-detect the data schema based on input data.\n",
    "genomic_feature_group.load_feature_definitions(data_frame=data_gen) # output is suppressed"
   ]
  },
  {
   "cell_type": "markdown",
   "id": "0c8bf4fa",
   "metadata": {},
   "source": [
    "We create the FeatureGroup for the genomic dataset with both online and offline store enabled."
   ]
  },
  {
   "cell_type": "code",
   "execution_count": null,
   "id": "95521b3d",
   "metadata": {},
   "outputs": [],
   "source": [
    "%%time\n",
    "\n",
    "def wait_for_feature_group_creation_complete(feature_group):\n",
    "    status = feature_group.describe().get('FeatureGroupStatus')\n",
    "    while status == 'Creating':\n",
    "        print('Waiting for Feature Group Creation')\n",
    "        time.sleep(5)\n",
    "        status = feature_group.describe().get('FeatureGroupStatus')\n",
    "    if status != 'Created':\n",
    "        raise RuntimeError(f'Failed to create feature group {feature_group.name}')\n",
    "    print(f'FeatureGroup {feature_group.name} successfully created.')\n",
    "\n",
    "\n",
    "prefix = 'sagemaker-featurestore-demo'\n",
    "\n",
    "genomic_feature_group.create(\n",
    "    s3_uri=f's3://{BUCKET}/{prefix}',\n",
    "    record_identifier_name=record_identifier_feature_name,\n",
    "    event_time_feature_name=event_time_feature_name,\n",
    "    role_arn=ROLE,\n",
    "    enable_online_store=True\n",
    ")\n",
    "\n",
    "wait_for_feature_group_creation_complete(feature_group=genomic_feature_group)"
   ]
  },
  {
   "cell_type": "markdown",
   "id": "c45c3151",
   "metadata": {},
   "source": [
    "After the feature group is created, we can ingest the genomic dataset to its feature group."
   ]
  },
  {
   "cell_type": "code",
   "execution_count": null,
   "id": "31aee133",
   "metadata": {},
   "outputs": [],
   "source": [
    "genomic_feature_group.ingest(\n",
    "    data_frame=data_gen, max_workers=3, wait=True\n",
    ")"
   ]
  },
  {
   "cell_type": "markdown",
   "id": "ce27f7db",
   "metadata": {},
   "source": [
    "## Next Stage"
   ]
  },
  {
   "cell_type": "markdown",
   "id": "1f01100d",
   "metadata": {},
   "source": [
    "Next, we'll take a look at preparing the clinical data."
   ]
  },
  {
   "cell_type": "markdown",
   "id": "1f4e2b27",
   "metadata": {},
   "source": [
    "Click here to [continue](./2_preprocess_clinical_data.ipynb)."
   ]
  }
 ],
 "metadata": {
  "instance_type": "ml.t3.medium",
  "kernelspec": {
   "display_name": "Python 3",
   "language": "python",
   "name": "python3"
  },
  "language_info": {
   "codemirror_mode": {
    "name": "ipython",
    "version": 3
   },
   "file_extension": ".py",
   "mimetype": "text/x-python",
   "name": "python",
   "nbconvert_exporter": "python",
   "pygments_lexer": "ipython3",
   "version": "3.6.8"
  }
 },
 "nbformat": 4,
 "nbformat_minor": 5
}
