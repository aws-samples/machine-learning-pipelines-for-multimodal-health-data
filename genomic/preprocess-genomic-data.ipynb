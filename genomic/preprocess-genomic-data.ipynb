{
 "cells": [
  {
   "cell_type": "code",
   "execution_count": 1,
   "id": "possible-regular",
   "metadata": {},
   "outputs": [],
   "source": [
    "## This script is used to read genomic data (in tabular format) from S3 and store features in SageMaker FeatureStore"
   ]
  },
  {
   "cell_type": "code",
   "execution_count": 7,
   "id": "nasty-consensus",
   "metadata": {},
   "outputs": [],
   "source": [
    "import boto3\n",
    "import numpy as np\n",
    "import pandas as pd\n",
    "import matplotlib.pyplot as plt\n",
    "import io, os\n",
    "from time import gmtime, strftime, sleep\n",
    "import time\n",
    "import sagemaker\n",
    "from sagemaker.session import Session\n",
    "from sagemaker import get_execution_role\n",
    "from sagemaker.feature_store.feature_group import FeatureGroup"
   ]
  },
  {
   "cell_type": "markdown",
   "id": "sound-venture",
   "metadata": {},
   "source": [
    "## Set up SageMaker FeatureStore"
   ]
  },
  {
   "cell_type": "code",
   "execution_count": 8,
   "id": "usual-today",
   "metadata": {},
   "outputs": [],
   "source": [
    "region = boto3.Session().region_name\n",
    "\n",
    "boto_session = boto3.Session(region_name=region)\n",
    "sagemaker_client = boto_session.client(service_name='sagemaker', region_name=region)\n",
    "featurestore_runtime = boto_session.client(service_name='sagemaker-featurestore-runtime', region_name=region)\n",
    "\n",
    "feature_store_session = Session(\n",
    "    boto_session=boto_session,\n",
    "    sagemaker_client=sagemaker_client,\n",
    "    sagemaker_featurestore_runtime_client=featurestore_runtime\n",
    ")\n",
    "\n",
    "role = get_execution_role()\n",
    "s3_client = boto3.client('s3', region_name=region)\n",
    "\n",
    "default_s3_bucket_name = feature_store_session.default_bucket()\n",
    "prefix = 'sagemaker-featurestore-demo'"
   ]
  },
  {
   "cell_type": "markdown",
   "id": "ranking-district",
   "metadata": {},
   "source": [
    "## Get data from S3"
   ]
  },
  {
   "cell_type": "code",
   "execution_count": 9,
   "id": "chicken-refrigerator",
   "metadata": {},
   "outputs": [],
   "source": [
    "# Get data from S3 \n",
    "bucket_gen = 'nsclc-clinical-genomic-data'\n",
    "#bucket_gen = <S3-BUCKET-NAME>\n",
    "\n",
    "# Genomic data \n",
    "data_key_gen = 'Genomic-data-119patients.csv'\n",
    "#data_key_gen = <FILE-NAME.csv>\n",
    "\n",
    "data_location_gen = 's3://{}/{}'.format(bucket_gen, data_key_gen)\n",
    "data_gen = pd.read_csv(data_location_gen)"
   ]
  },
  {
   "cell_type": "markdown",
   "id": "introductory-brazil",
   "metadata": {},
   "source": [
    "## Ingest data into FeatureStore"
   ]
  },
  {
   "cell_type": "code",
   "execution_count": null,
   "id": "operating-infrastructure",
   "metadata": {},
   "outputs": [],
   "source": [
    "genomic_feature_group_name = 'genomic-feature-group-' + strftime('%d-%H-%M-%S', gmtime())\n",
    "genomic_feature_group = FeatureGroup(name=genomic_feature_group_name, sagemaker_session=feature_store_session)\n",
    "\n",
    "current_time_sec = int(round(time.time()))\n",
    "\n",
    "def cast_object_to_string(data_frame):\n",
    "    for label in data_frame.columns:\n",
    "        if data_frame.dtypes[label] == 'object':\n",
    "            data_frame[label] = data_frame[label].astype(\"str\").astype(\"string\")\n",
    "\n",
    "# Cast object dtype to string. SageMaker FeatureStore Python SDK will then map the string dtype to String feature type.\n",
    "cast_object_to_string(data_gen)\n",
    "\n",
    "# Record identifier and event time feature names\n",
    "record_identifier_feature_name = \"Case_ID\"\n",
    "event_time_feature_name = \"EventTime\"\n",
    "\n",
    "# Append EventTime feature\n",
    "data_gen[event_time_feature_name] = pd.Series([current_time_sec]*len(data_gen), dtype=\"float64\")\n",
    "\n",
    "# Load feature definitions to the feature group. SageMaker FeatureStore Python SDK will auto-detect the data schema based on input data.\n",
    "genomic_feature_group.load_feature_definitions(data_frame=data_gen); # output is suppressed\n",
    "\n",
    "\n",
    "def wait_for_feature_group_creation_complete(feature_group):\n",
    "    status = feature_group.describe().get(\"FeatureGroupStatus\")\n",
    "    while status == \"Creating\":\n",
    "        print(\"Waiting for Feature Group Creation\")\n",
    "        time.sleep(5)\n",
    "        status = feature_group.describe().get(\"FeatureGroupStatus\")\n",
    "    if status != \"Created\":\n",
    "        raise RuntimeError(f\"Failed to create feature group {feature_group.name}\")\n",
    "    print(f\"FeatureGroup {feature_group.name} successfully created.\")\n",
    "\n",
    "genomic_feature_group.create(\n",
    "    s3_uri=f\"s3://{default_s3_bucket_name}/{prefix}\",\n",
    "    record_identifier_name=record_identifier_feature_name,\n",
    "    event_time_feature_name=event_time_feature_name,\n",
    "    role_arn=role,\n",
    "    enable_online_store=True\n",
    ")\n",
    "\n",
    "wait_for_feature_group_creation_complete(feature_group=genomic_feature_group)\n",
    "\n",
    "genomic_feature_group.ingest(\n",
    "    data_frame=data_gen, max_workers=3, wait=True\n",
    ")"
   ]
  }
 ],
 "metadata": {
  "kernelspec": {
   "display_name": "conda_python3",
   "language": "python",
   "name": "conda_python3"
  },
  "language_info": {
   "codemirror_mode": {
    "name": "ipython",
    "version": 3
   },
   "file_extension": ".py",
   "mimetype": "text/x-python",
   "name": "python",
   "nbconvert_exporter": "python",
   "pygments_lexer": "ipython3",
   "version": "3.6.13"
  }
 },
 "nbformat": 4,
 "nbformat_minor": 5
}
